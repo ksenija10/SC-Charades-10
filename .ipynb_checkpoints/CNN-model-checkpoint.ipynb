{
 "cells": [
  {
   "cell_type": "code",
   "execution_count": 14,
   "metadata": {},
   "outputs": [],
   "source": [
    "from os import listdir\n",
    "from os.path import isfile, join, normpath\n",
    "from os import walk, rename\n",
    "import random\n",
    "import time"
   ]
  },
  {
   "cell_type": "code",
   "execution_count": 2,
   "metadata": {},
   "outputs": [],
   "source": [
    "import numpy as np\n",
    "import cv2 # OpenCV\n",
    "import matplotlib\n",
    "import matplotlib.pyplot as plt\n",
    "import collections"
   ]
  },
  {
   "cell_type": "code",
   "execution_count": 3,
   "metadata": {},
   "outputs": [
    {
     "name": "stderr",
     "output_type": "stream",
     "text": [
      "Using TensorFlow backend.\n"
     ]
    }
   ],
   "source": [
    "# keras\n",
    "from keras.models import Sequential, load_model\n",
    "from keras.layers import Conv2D, Activation, Dropout, MaxPooling2D, Flatten, Dense, \\\n",
    "    LeakyReLU, BatchNormalization, AveragePooling2D\n",
    "from keras.optimizers import Adam\n",
    "from keras.utils import to_categorical\n",
    "from keras.losses import categorical_crossentropy\n",
    "from keras import regularizers\n",
    "from keras.callbacks import TensorBoard"
   ]
  },
  {
   "cell_type": "code",
   "execution_count": 57,
   "metadata": {},
   "outputs": [],
   "source": [
    "SAVE_MODEL_NAME = \"Charades-CNN-48x4-FourDropout-0.1-0.2-0.3-PaddingNoNoYes-Batch-32-l1-0x001\"\n",
    "MODEL_NAME = SAVE_MODEL_NAME + \"-{}\".format(int(time.time()))"
   ]
  },
  {
   "cell_type": "code",
   "execution_count": 58,
   "metadata": {},
   "outputs": [],
   "source": [
    "tensor_board = TensorBoard(log_dir=\"logs\\{}\".format(MODEL_NAME))"
   ]
  },
  {
   "cell_type": "code",
   "execution_count": 4,
   "metadata": {},
   "outputs": [],
   "source": [
    "TRAIN_IMAGES = []\n",
    "TRAIN_LABELS = []"
   ]
  },
  {
   "cell_type": "code",
   "execution_count": 5,
   "metadata": {},
   "outputs": [],
   "source": [
    "IMG_ROWS = 48\n",
    "IMG_COLS = 48\n",
    "DATASET_PATH = \"processed_dataset/\"\n",
    "CATEGORIES = [\"BOOK\", \"FILM\", \"SHOW\", \"GEO\", \"PHRASE\", \"SERIES\", \"ONE\", \"TWO\", \"THREE\", \"FOUR\", \"FIVE\", \"SIX\", \"SEVEN\", \n",
    "              \"EIGHT\", \"NINE\", \"TEN\" ]\n",
    "BATCH_SIZE = 32\n",
    "EPOCHS = 15"
   ]
  },
  {
   "cell_type": "code",
   "execution_count": 6,
   "metadata": {},
   "outputs": [],
   "source": [
    "def create_label(img_name):\n",
    "    #categories\n",
    "    if \"book\" in img_name:\n",
    "        return 0\n",
    "    if \"film\" in img_name:\n",
    "        return 1\n",
    "    if \"show\" in img_name:\n",
    "        return 2\n",
    "    if \"geo\" in img_name:\n",
    "        return 3\n",
    "    if \"phrase\" in img_name:\n",
    "        return 4\n",
    "    if \"series\" in img_name:\n",
    "        return 5\n",
    "    #numbers\n",
    "    if \"one\" in img_name:\n",
    "        return 6\n",
    "    if \"two\" in img_name:\n",
    "        return 7\n",
    "    if \"three\" in img_name:\n",
    "        return 8\n",
    "    if \"four\" in img_name:\n",
    "        return 9\n",
    "    if \"five\" in img_name:\n",
    "        return 10\n",
    "    if \"six\" in img_name:\n",
    "        return 11\n",
    "    if \"seven\" in img_name:\n",
    "        return 12\n",
    "    if \"eight\" in img_name:\n",
    "        return 13\n",
    "    if \"nine\" in img_name:\n",
    "        return 14\n",
    "    if \"ten\" in img_name:\n",
    "        return 15"
   ]
  },
  {
   "cell_type": "code",
   "execution_count": 7,
   "metadata": {},
   "outputs": [],
   "source": [
    "def load_dataset(): \n",
    "    all_images = []\n",
    "    loaded_images = [f for f in listdir(DATASET_PATH) if isfile(join(DATASET_PATH, f))]\n",
    "    for img_name in loaded_images:\n",
    "        image = cv2.imread(DATASET_PATH + img_name,  cv2.IMREAD_GRAYSCALE)\n",
    "        image = image/255.0\n",
    "        image = cv2.resize(image, (IMG_ROWS, IMG_COLS))\n",
    "        image = image.flatten()\n",
    "        label = create_label(img_name)\n",
    "        all_images.append([image, label])\n",
    "    # shuffle the data\n",
    "    random.shuffle(all_images)\n",
    "    \n",
    "    # create np arrays\n",
    "    train_x = []\n",
    "    train_y = []\n",
    "\n",
    "    for features, label in all_images:\n",
    "        train_x.append(features)\n",
    "        train_y.append(label)\n",
    "\n",
    "    # reshape np array\n",
    "    train_x = np.array(train_x).reshape(-1, IMG_ROWS, IMG_COLS, 1)\n",
    "    train_y = np.array(train_y)\n",
    "    train_y = to_categorical(train_y, 16)\n",
    "    return train_x, train_y"
   ]
  },
  {
   "cell_type": "code",
   "execution_count": 60,
   "metadata": {},
   "outputs": [],
   "source": [
    "def create_model():\n",
    "    model = Sequential()\n",
    "\n",
    "    model.add(Conv2D(48, padding='valid', kernel_size=(3, 3), input_shape=(IMG_ROWS, IMG_COLS, 1)))\n",
    "    model.add(Activation(\"relu\"))\n",
    "    model.add(MaxPooling2D(pool_size=(2, 2)))\n",
    "    model.add(Dropout(0.1))\n",
    "    \n",
    "    model.add(Conv2D(48, padding='valid', kernel_size=(3, 3)))\n",
    "    model.add(Activation(\"relu\"))\n",
    "    model.add(MaxPooling2D(pool_size=(2, 2)))\n",
    "    model.add(Dropout(0.2))\n",
    "    \n",
    "    model.add(Conv2D(48, padding='same', kernel_size=(3, 3)))\n",
    "    model.add(Activation(\"relu\"))\n",
    "    model.add(MaxPooling2D(pool_size=(2, 2)))\n",
    "    model.add(Dropout(0.3))\n",
    "\n",
    "    model.add(Flatten())\n",
    "\n",
    "    model.add(Dense(16, kernel_regularizer=regularizers.l1(0.001)))\n",
    "    model.add(Activation(\"softmax\"))\n",
    "\n",
    "    model.summary()\n",
    "    return model"
   ]
  },
  {
   "cell_type": "code",
   "execution_count": null,
   "metadata": {},
   "outputs": [],
   "source": [
    "def create_lstm_model():\n",
    "    model = Sequential()\n",
    "    \n",
    "    LSTM()\n",
    "    \n",
    "    model.add(Dense(16, kernel_regularizer=regularizers.l1(0.001)))\n",
    "    model.add(Activation(\"softmax\"))\n",
    "\n",
    "    model.summary()\n",
    "    \n",
    "    return model"
   ]
  },
  {
   "cell_type": "code",
   "execution_count": 17,
   "metadata": {},
   "outputs": [],
   "source": [
    "def compile_fit_model(model, train_x, train_y):\n",
    "    print(len(train_x))\n",
    "    print(len(train_y))\n",
    "    # Compile model\n",
    "    model.compile(loss=categorical_crossentropy,\n",
    "                  optimizer=Adam(),\n",
    "                  metrics=[\"accuracy\"])\n",
    "\n",
    "    # Train and evaluation\n",
    "    model.fit(train_x, train_y,\n",
    "              batch_size=BATCH_SIZE, epochs=EPOCHS,\n",
    "              validation_split=0.2, verbose=1,\n",
    "              callbacks=[tensor_board])\n",
    "    model.save(SAVE_MODEL_NAME + '.model')"
   ]
  },
  {
   "cell_type": "code",
   "execution_count": 8,
   "metadata": {},
   "outputs": [],
   "source": [
    "#load dataset\n",
    "TRAIN_IMAGES, TRAIN_LABELS = load_dataset()"
   ]
  },
  {
   "cell_type": "code",
   "execution_count": 59,
   "metadata": {},
   "outputs": [
    {
     "name": "stdout",
     "output_type": "stream",
     "text": [
      "Model: \"sequential_14\"\n",
      "_________________________________________________________________\n",
      "Layer (type)                 Output Shape              Param #   \n",
      "=================================================================\n",
      "conv2d_32 (Conv2D)           (None, 46, 46, 48)        480       \n",
      "_________________________________________________________________\n",
      "activation_44 (Activation)   (None, 46, 46, 48)        0         \n",
      "_________________________________________________________________\n",
      "average_pooling2d_1 (Average (None, 23, 23, 48)        0         \n",
      "_________________________________________________________________\n",
      "dropout_32 (Dropout)         (None, 23, 23, 48)        0         \n",
      "_________________________________________________________________\n",
      "conv2d_33 (Conv2D)           (None, 21, 21, 48)        20784     \n",
      "_________________________________________________________________\n",
      "activation_45 (Activation)   (None, 21, 21, 48)        0         \n",
      "_________________________________________________________________\n",
      "average_pooling2d_2 (Average (None, 10, 10, 48)        0         \n",
      "_________________________________________________________________\n",
      "dropout_33 (Dropout)         (None, 10, 10, 48)        0         \n",
      "_________________________________________________________________\n",
      "conv2d_34 (Conv2D)           (None, 10, 10, 48)        20784     \n",
      "_________________________________________________________________\n",
      "activation_46 (Activation)   (None, 10, 10, 48)        0         \n",
      "_________________________________________________________________\n",
      "average_pooling2d_3 (Average (None, 5, 5, 48)          0         \n",
      "_________________________________________________________________\n",
      "dropout_34 (Dropout)         (None, 5, 5, 48)          0         \n",
      "_________________________________________________________________\n",
      "flatten_13 (Flatten)         (None, 1200)              0         \n",
      "_________________________________________________________________\n",
      "dense_13 (Dense)             (None, 16)                19216     \n",
      "_________________________________________________________________\n",
      "activation_47 (Activation)   (None, 16)                0         \n",
      "=================================================================\n",
      "Total params: 61,264\n",
      "Trainable params: 61,264\n",
      "Non-trainable params: 0\n",
      "_________________________________________________________________\n",
      "5343\n",
      "5343\n",
      "Train on 4274 samples, validate on 1069 samples\n",
      "Epoch 1/15\n",
      "4274/4274 [==============================] - 21s 5ms/step - loss: 2.6583 - accuracy: 0.2110 - val_loss: 2.0817 - val_accuracy: 0.3761\n",
      "Epoch 2/15\n",
      "4274/4274 [==============================] - 17s 4ms/step - loss: 1.7435 - accuracy: 0.5012 - val_loss: 1.2652 - val_accuracy: 0.6932\n",
      "Epoch 3/15\n",
      "4274/4274 [==============================] - 16s 4ms/step - loss: 1.2211 - accuracy: 0.6830 - val_loss: 0.9123 - val_accuracy: 0.8045\n",
      "Epoch 4/15\n",
      "4274/4274 [==============================] - 21s 5ms/step - loss: 0.9734 - accuracy: 0.7663 - val_loss: 0.7810 - val_accuracy: 0.8344\n",
      "Epoch 5/15\n",
      "4274/4274 [==============================] - 25s 6ms/step - loss: 0.8046 - accuracy: 0.8369 - val_loss: 0.6363 - val_accuracy: 0.8868\n",
      "Epoch 6/15\n",
      "4274/4274 [==============================] - 18s 4ms/step - loss: 0.6943 - accuracy: 0.8573 - val_loss: 0.5103 - val_accuracy: 0.9355\n",
      "Epoch 7/15\n",
      "4274/4274 [==============================] - 19s 5ms/step - loss: 0.6311 - accuracy: 0.8856 - val_loss: 0.4882 - val_accuracy: 0.9486\n",
      "Epoch 8/15\n",
      "4274/4274 [==============================] - 21s 5ms/step - loss: 0.5822 - accuracy: 0.8982 - val_loss: 0.4803 - val_accuracy: 0.9336\n",
      "Epoch 9/15\n",
      "4274/4274 [==============================] - 20s 5ms/step - loss: 0.5584 - accuracy: 0.9090 - val_loss: 0.4531 - val_accuracy: 0.9467\n",
      "Epoch 10/15\n",
      "4274/4274 [==============================] - 20s 5ms/step - loss: 0.5162 - accuracy: 0.9179 - val_loss: 0.4257 - val_accuracy: 0.9523\n",
      "Epoch 11/15\n",
      "4274/4274 [==============================] - 19s 4ms/step - loss: 0.5020 - accuracy: 0.9265 - val_loss: 0.3757 - val_accuracy: 0.9710\n",
      "Epoch 12/15\n",
      "4274/4274 [==============================] - 17s 4ms/step - loss: 0.4715 - accuracy: 0.9314 - val_loss: 0.3699 - val_accuracy: 0.9729\n",
      "Epoch 13/15\n",
      "4274/4274 [==============================] - 24s 6ms/step - loss: 0.4506 - accuracy: 0.9382 - val_loss: 0.3665 - val_accuracy: 0.9663\n",
      "Epoch 14/15\n",
      "4274/4274 [==============================] - 19s 4ms/step - loss: 0.4513 - accuracy: 0.9333 - val_loss: 0.3739 - val_accuracy: 0.9719\n",
      "Epoch 15/15\n",
      "4274/4274 [==============================] - 19s 4ms/step - loss: 0.4389 - accuracy: 0.9382 - val_loss: 0.3482 - val_accuracy: 0.9710\n"
     ]
    }
   ],
   "source": [
    "# create CNN model\n",
    "cnn_model = create_model()\n",
    "compile_fit_model(cnn_model, TRAIN_IMAGES, TRAIN_LABELS)"
   ]
  },
  {
   "cell_type": "code",
   "execution_count": null,
   "metadata": {},
   "outputs": [],
   "source": [
    "#load saved model\n",
    "saved_model = load_model('Charades-CNN-48x3-ThreeDropout-Batch-32-l1-0x001' + '.model')"
   ]
  },
  {
   "cell_type": "code",
   "execution_count": 29,
   "metadata": {},
   "outputs": [
    {
     "name": "stdout",
     "output_type": "stream",
     "text": [
      "The tensorboard extension is already loaded. To reload it, use:\n",
      "  %reload_ext tensorboard\n"
     ]
    },
    {
     "data": {
      "text/plain": [
       "Reusing TensorBoard on port 6006 (pid 6552), started 0:04:52 ago. (Use '!kill 6552' to kill it.)"
      ]
     },
     "metadata": {},
     "output_type": "display_data"
    },
    {
     "data": {
      "text/html": [
       "\n",
       "      <iframe id=\"tensorboard-frame-34f0053717ac4878\" width=\"100%\" height=\"800\" frameborder=\"0\">\n",
       "      </iframe>\n",
       "      <script>\n",
       "        (function() {\n",
       "          const frame = document.getElementById(\"tensorboard-frame-34f0053717ac4878\");\n",
       "          const url = new URL(\"/\", window.location);\n",
       "          url.port = 6006;\n",
       "          frame.src = url;\n",
       "        })();\n",
       "      </script>\n",
       "  "
      ],
      "text/plain": [
       "<IPython.core.display.HTML object>"
      ]
     },
     "metadata": {},
     "output_type": "display_data"
    }
   ],
   "source": [
    "%load_ext tensorboard\n",
    "%tensorboard --logdir logs"
   ]
  },
  {
   "cell_type": "code",
   "execution_count": null,
   "metadata": {},
   "outputs": [],
   "source": []
  }
 ],
 "metadata": {
  "kernelspec": {
   "display_name": "Python 3",
   "language": "python",
   "name": "python3"
  },
  "language_info": {
   "codemirror_mode": {
    "name": "ipython",
    "version": 3
   },
   "file_extension": ".py",
   "mimetype": "text/x-python",
   "name": "python",
   "nbconvert_exporter": "python",
   "pygments_lexer": "ipython3",
   "version": "3.7.2"
  }
 },
 "nbformat": 4,
 "nbformat_minor": 2
}
