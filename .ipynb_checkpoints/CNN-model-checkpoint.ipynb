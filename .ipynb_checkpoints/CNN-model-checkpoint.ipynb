{
 "cells": [
  {
   "cell_type": "code",
   "execution_count": 1,
   "metadata": {},
   "outputs": [],
   "source": [
    "from os import listdir\n",
    "from os.path import isfile, join, normpath\n",
    "from os import walk, rename\n",
    "import random"
   ]
  },
  {
   "cell_type": "code",
   "execution_count": 2,
   "metadata": {},
   "outputs": [],
   "source": [
    "import numpy as np\n",
    "import cv2 # OpenCV\n",
    "import matplotlib\n",
    "import matplotlib.pyplot as plt\n",
    "import collections"
   ]
  },
  {
   "cell_type": "code",
   "execution_count": 3,
   "metadata": {},
   "outputs": [
    {
     "name": "stderr",
     "output_type": "stream",
     "text": [
      "Using TensorFlow backend.\n"
     ]
    }
   ],
   "source": [
    "# keras\n",
    "from keras.models import Sequential, load_model\n",
    "from keras.layers import Conv2D, Activation, Dropout, MaxPooling2D, Flatten, Dense, \\\n",
    "    LeakyReLU, BatchNormalization, AveragePooling2D\n",
    "from keras.optimizers import Adam\n",
    "from keras.utils import to_categorical\n",
    "from keras.losses import categorical_crossentropy\n",
    "from keras import regularizers\n",
    "from keras.callbacks import TensorBoard"
   ]
  },
  {
   "cell_type": "code",
   "execution_count": null,
   "metadata": {},
   "outputs": [],
   "source": [
    "TRAIN_IMAGES = []\n",
    "TRAIN_LABELS = []"
   ]
  },
  {
   "cell_type": "code",
   "execution_count": 14,
   "metadata": {},
   "outputs": [],
   "source": [
    "IMG_ROWS = 48\n",
    "IMG_COLS = 48\n",
    "DATASET_PATH = \"processed_dataset/\"\n",
    "CATEGORIES = [\"BOOK\", \"FILM\", \"SHOW\", \"GEO\", \"PHRASE\", \"SERIES\", \"ONE\", \"TWO\", \"THREE\", \"FOUR\", \"FIVE\", \"SIX\", \"SEVEN\", \n",
    "              \"EIGHT\", \"NINE\", \"TEN\" ]\n",
    "BATCH_SIZE = 32\n",
    "EPOCHS = 15"
   ]
  },
  {
   "cell_type": "code",
   "execution_count": 5,
   "metadata": {},
   "outputs": [],
   "source": [
    "def create_label(img_name):\n",
    "    #categories\n",
    "    if \"book\" in img_name:\n",
    "        return 0\n",
    "    if \"film\" in img_name:\n",
    "        return 1\n",
    "    if \"show\" in img_name:\n",
    "        return 2\n",
    "    if \"geo\" in img_name:\n",
    "        return 3\n",
    "    if \"phrase\" in img_name:\n",
    "        return 4\n",
    "    if \"series\" in img_name:\n",
    "        return 5\n",
    "    #numbers\n",
    "    if \"one\" in img_name:\n",
    "        return 6\n",
    "    if \"two\" in img_name:\n",
    "        return 7\n",
    "    if \"three\" in img_name:\n",
    "        return 8\n",
    "    if \"four\" in img_name:\n",
    "        return 9\n",
    "    if \"five\" in img_name:\n",
    "        return 10\n",
    "    if \"six\" in img_name:\n",
    "        return 11\n",
    "    if \"seven\" in img_name:\n",
    "        return 12\n",
    "    if \"eight\" in img_name:\n",
    "        return 13\n",
    "    if \"nine\" in img_name:\n",
    "        return 14\n",
    "    if \"ten\" in img_name:\n",
    "        return 15\n",
    "    \n",
    "    "
   ]
  },
  {
   "cell_type": "code",
   "execution_count": 11,
   "metadata": {},
   "outputs": [],
   "source": [
    "def load_dataset(): \n",
    "    all_images = []\n",
    "    loaded_images = [f for f in listdir(DATASET_PATH) if isfile(join(DATASET_PATH, f))]\n",
    "    for img_name in loaded_images:\n",
    "        image = cv2.imread(DATASET_PATH + img_name,  cv2.IMREAD_GRAYSCALE)\n",
    "        image = image/255.0\n",
    "        image = cv2.resize(image, (IMG_ROWS, IMG_COLS))\n",
    "        image = image.flatten()\n",
    "        label = create_label(img_name)\n",
    "        all_images.append([image, label])\n",
    "    # shuffle the data\n",
    "    random.shuffle(all_images)\n",
    "    \n",
    "    # create np arrays\n",
    "    train_x = []\n",
    "    train_y = []\n",
    "\n",
    "    for features, label in all_images:\n",
    "        train_x.append(features)\n",
    "        train_y.append(label)\n",
    "\n",
    "    # reshape np array\n",
    "    train_x = np.array(train_x).reshape(-1, IMG_ROWS, IMG_COLS, 1)\n",
    "    train_y = np.array(train_y)\n",
    "    train_y = to_categorical(train_y, 16)\n",
    "    return train_x, train_y"
   ]
  },
  {
   "cell_type": "code",
   "execution_count": 19,
   "metadata": {},
   "outputs": [],
   "source": [
    "def create_model():\n",
    "    model = Sequential()\n",
    "\n",
    "    model.add(Conv2D(48, padding='same', kernel_size=(3, 3), input_shape=(IMG_ROWS, IMG_COLS, 1)))\n",
    "    model.add(Activation(\"relu\"))\n",
    "    model.add(Dropout(0.2))\n",
    "    model.add(MaxPooling2D(pool_size=(2, 2)))\n",
    "\n",
    "    model.add(Conv2D(48, padding='same', kernel_size=(3, 3)))\n",
    "    model.add(Activation(\"relu\"))\n",
    "    model.add(MaxPooling2D(pool_size=(2, 2)))\n",
    "    model.add(Dropout(0.3))\n",
    "\n",
    "    model.add(Conv2D(48, padding='same', kernel_size=(3, 3)))\n",
    "    model.add(Activation(\"relu\"))\n",
    "    model.add(MaxPooling2D(pool_size=(2, 2)))\n",
    "    model.add(Dropout(0.4))\n",
    "\n",
    "    model.add(Flatten())\n",
    "\n",
    "    model.add(Dense(16, kernel_regularizer=regularizers.l1(0.001)))\n",
    "    model.add(Activation(\"softmax\"))\n",
    "\n",
    "    model.summary()\n",
    "    return model"
   ]
  },
  {
   "cell_type": "code",
   "execution_count": 8,
   "metadata": {},
   "outputs": [],
   "source": [
    "def compile_fit_model(model, train_x, train_y):\n",
    "    print(len(train_x))\n",
    "    print(len(train_y))\n",
    "    # Compile model\n",
    "    model.compile(loss=categorical_crossentropy,\n",
    "                  optimizer=Adam(),\n",
    "                  metrics=[\"accuracy\"])\n",
    "\n",
    "    # Train and evaluation\n",
    "    model.fit(train_x, train_y,\n",
    "              batch_size=BATCH_SIZE, epochs=EPOCHS,\n",
    "              validation_split=0.2, verbose=1)\n",
    "    model.save('Charades-CNN-48x3-ThreeDropout-Batch-32-l1-0x001' + '.model')"
   ]
  },
  {
   "cell_type": "code",
   "execution_count": 16,
   "metadata": {},
   "outputs": [],
   "source": [
    "#load dataset\n",
    "TRAIN_IMAGES, TRAIN_LABELS = load_dataset()"
   ]
  },
  {
   "cell_type": "code",
   "execution_count": 20,
   "metadata": {},
   "outputs": [
    {
     "name": "stdout",
     "output_type": "stream",
     "text": [
      "Model: \"sequential_4\"\n",
      "_________________________________________________________________\n",
      "Layer (type)                 Output Shape              Param #   \n",
      "=================================================================\n",
      "conv2d_13 (Conv2D)           (None, 48, 48, 48)        480       \n",
      "_________________________________________________________________\n",
      "activation_19 (Activation)   (None, 48, 48, 48)        0         \n",
      "_________________________________________________________________\n",
      "dropout_16 (Dropout)         (None, 48, 48, 48)        0         \n",
      "_________________________________________________________________\n",
      "max_pooling2d_13 (MaxPooling (None, 24, 24, 48)        0         \n",
      "_________________________________________________________________\n",
      "conv2d_14 (Conv2D)           (None, 24, 24, 48)        20784     \n",
      "_________________________________________________________________\n",
      "activation_20 (Activation)   (None, 24, 24, 48)        0         \n",
      "_________________________________________________________________\n",
      "max_pooling2d_14 (MaxPooling (None, 12, 12, 48)        0         \n",
      "_________________________________________________________________\n",
      "dropout_17 (Dropout)         (None, 12, 12, 48)        0         \n",
      "_________________________________________________________________\n",
      "conv2d_15 (Conv2D)           (None, 12, 12, 48)        20784     \n",
      "_________________________________________________________________\n",
      "activation_21 (Activation)   (None, 12, 12, 48)        0         \n",
      "_________________________________________________________________\n",
      "max_pooling2d_15 (MaxPooling (None, 6, 6, 48)          0         \n",
      "_________________________________________________________________\n",
      "dropout_18 (Dropout)         (None, 6, 6, 48)          0         \n",
      "_________________________________________________________________\n",
      "flatten_4 (Flatten)          (None, 1728)              0         \n",
      "_________________________________________________________________\n",
      "dense_7 (Dense)              (None, 16)                27664     \n",
      "_________________________________________________________________\n",
      "activation_22 (Activation)   (None, 16)                0         \n",
      "=================================================================\n",
      "Total params: 69,712\n",
      "Trainable params: 69,712\n",
      "Non-trainable params: 0\n",
      "_________________________________________________________________\n",
      "5343\n",
      "5343\n",
      "Train on 4274 samples, validate on 1069 samples\n",
      "Epoch 1/20\n",
      "4274/4274 [==============================] - 29s 7ms/step - loss: 2.7094 - accuracy: 0.2415 - val_loss: 2.1408 - val_accuracy: 0.4584\n",
      "Epoch 2/20\n",
      "4274/4274 [==============================] - 31s 7ms/step - loss: 1.6768 - accuracy: 0.5674 - val_loss: 1.3146 - val_accuracy: 0.7343\n",
      "Epoch 3/20\n",
      "4274/4274 [==============================] - 29s 7ms/step - loss: 1.1697 - accuracy: 0.7480 - val_loss: 0.9321 - val_accuracy: 0.8644\n",
      "Epoch 4/20\n",
      "4274/4274 [==============================] - 30s 7ms/step - loss: 0.9243 - accuracy: 0.8346 - val_loss: 0.7808 - val_accuracy: 0.8971\n",
      "Epoch 5/20\n",
      "4274/4274 [==============================] - 32s 7ms/step - loss: 0.8147 - accuracy: 0.8570 - val_loss: 0.7046 - val_accuracy: 0.9093\n",
      "Epoch 6/20\n",
      "4274/4274 [==============================] - 32s 8ms/step - loss: 0.7276 - accuracy: 0.8872 - val_loss: 0.5982 - val_accuracy: 0.9495\n",
      "Epoch 7/20\n",
      "4274/4274 [==============================] - 34s 8ms/step - loss: 0.6490 - accuracy: 0.9045 - val_loss: 0.5462 - val_accuracy: 0.9626\n",
      "Epoch 8/20\n",
      "4274/4274 [==============================] - 30s 7ms/step - loss: 0.5889 - accuracy: 0.9214 - val_loss: 0.4992 - val_accuracy: 0.9729\n",
      "Epoch 9/20\n",
      "4274/4274 [==============================] - 27s 6ms/step - loss: 0.5450 - accuracy: 0.9340 - val_loss: 0.4808 - val_accuracy: 0.9663\n",
      "Epoch 10/20\n",
      "4274/4274 [==============================] - 26s 6ms/step - loss: 0.5230 - accuracy: 0.9361 - val_loss: 0.4369 - val_accuracy: 0.9775\n",
      "Epoch 11/20\n",
      "4274/4274 [==============================] - 26s 6ms/step - loss: 0.4985 - accuracy: 0.9413 - val_loss: 0.4325 - val_accuracy: 0.9747\n",
      "Epoch 12/20\n",
      "4274/4274 [==============================] - 26s 6ms/step - loss: 0.4812 - accuracy: 0.9441 - val_loss: 0.4008 - val_accuracy: 0.9860\n",
      "Epoch 13/20\n",
      "4274/4274 [==============================] - 27s 6ms/step - loss: 0.4623 - accuracy: 0.9474 - val_loss: 0.3857 - val_accuracy: 0.9813\n",
      "Epoch 14/20\n",
      "4274/4274 [==============================] - 27s 6ms/step - loss: 0.4567 - accuracy: 0.9499 - val_loss: 0.4035 - val_accuracy: 0.9822\n",
      "Epoch 15/20\n",
      "4274/4274 [==============================] - 26s 6ms/step - loss: 0.4222 - accuracy: 0.9569 - val_loss: 0.3777 - val_accuracy: 0.9813\n",
      "Epoch 16/20\n",
      "4274/4274 [==============================] - 26s 6ms/step - loss: 0.4380 - accuracy: 0.9537 - val_loss: 0.3653 - val_accuracy: 0.9878\n",
      "Epoch 17/20\n",
      "4274/4274 [==============================] - 31s 7ms/step - loss: 0.4116 - accuracy: 0.9572 - val_loss: 0.3524 - val_accuracy: 0.9888\n",
      "Epoch 18/20\n",
      "4274/4274 [==============================] - 27s 6ms/step - loss: 0.4066 - accuracy: 0.9588 - val_loss: 0.3395 - val_accuracy: 0.9897\n",
      "Epoch 19/20\n",
      "4274/4274 [==============================] - 27s 6ms/step - loss: 0.4021 - accuracy: 0.9619 - val_loss: 0.3356 - val_accuracy: 0.9869uracy: 0.96\n",
      "Epoch 20/20\n",
      "4274/4274 [==============================] - 26s 6ms/step - loss: 0.3932 - accuracy: 0.9616 - val_loss: 0.3225 - val_accuracy: 0.9906\n"
     ]
    }
   ],
   "source": [
    "# create CNN model\n",
    "cnn_model = create_model()\n",
    "compile_fit_model(cnn_model, TRAIN_IMAGES, TRAIN_LABELS)"
   ]
  },
  {
   "cell_type": "code",
   "execution_count": null,
   "metadata": {},
   "outputs": [],
   "source": [
    "#load saved model\n",
    "saved_model = load_model('Charades-CNN-48x3-ThreeDropout-Batch-32-l1-0x001' + '.model')"
   ]
  },
  {
   "cell_type": "code",
   "execution_count": null,
   "metadata": {},
   "outputs": [],
   "source": []
  }
 ],
 "metadata": {
  "kernelspec": {
   "display_name": "Python 3",
   "language": "python",
   "name": "python3"
  },
  "language_info": {
   "codemirror_mode": {
    "name": "ipython",
    "version": 3
   },
   "file_extension": ".py",
   "mimetype": "text/x-python",
   "name": "python",
   "nbconvert_exporter": "python",
   "pygments_lexer": "ipython3",
   "version": "3.6.8"
  }
 },
 "nbformat": 4,
 "nbformat_minor": 2
}
