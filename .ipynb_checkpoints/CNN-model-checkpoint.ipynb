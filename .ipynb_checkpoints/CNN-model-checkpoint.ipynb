{
 "cells": [
  {
   "cell_type": "code",
   "execution_count": 1,
   "metadata": {},
   "outputs": [],
   "source": [
    "from os import listdir\n",
    "from os.path import isfile, join, normpath\n",
    "from os import walk, rename\n",
    "import random\n",
    "import time"
   ]
  },
  {
   "cell_type": "code",
   "execution_count": 2,
   "metadata": {},
   "outputs": [],
   "source": [
    "import numpy as np\n",
    "import cv2 # OpenCV\n",
    "import matplotlib\n",
    "import matplotlib.pyplot as plt\n",
    "import collections"
   ]
  },
  {
   "cell_type": "code",
   "execution_count": 3,
   "metadata": {},
   "outputs": [
    {
     "name": "stderr",
     "output_type": "stream",
     "text": [
      "Using TensorFlow backend.\n"
     ]
    }
   ],
   "source": [
    "# keras\n",
    "from keras.models import Sequential, load_model\n",
    "from keras.layers import Conv2D, Activation, Dropout, MaxPooling2D, Flatten, Dense, \\\n",
    "    LeakyReLU, BatchNormalization, AveragePooling2D\n",
    "from keras.optimizers import Adam\n",
    "from keras.utils import to_categorical\n",
    "from keras.losses import categorical_crossentropy\n",
    "from keras import regularizers\n",
    "from keras.callbacks import TensorBoard"
   ]
  },
  {
   "cell_type": "code",
   "execution_count": 4,
   "metadata": {},
   "outputs": [],
   "source": [
    "SAVE_MODEL_NAME = \"Charades-CNN-48x3-ThreeDropout-0.1-0.2-0.3-Kernel-5x5-Batch-32-l1-0x001\"\n",
    "MODEL_NAME = SAVE_MODEL_NAME + \"-{}\".format(int(time.time()))"
   ]
  },
  {
   "cell_type": "code",
   "execution_count": 5,
   "metadata": {},
   "outputs": [],
   "source": [
    "tensor_board = TensorBoard(log_dir=\"logs\\{}\".format(MODEL_NAME))"
   ]
  },
  {
   "cell_type": "code",
   "execution_count": 6,
   "metadata": {},
   "outputs": [],
   "source": [
    "TRAIN_IMAGES = []\n",
    "TRAIN_LABELS = []"
   ]
  },
  {
   "cell_type": "code",
   "execution_count": 7,
   "metadata": {},
   "outputs": [],
   "source": [
    "IMG_ROWS = 48\n",
    "IMG_COLS = 48\n",
    "DATASET_PATH = \"processed_dataset/\"\n",
    "CATEGORIES = [\"BOOK\", \"FILM\", \"SHOW\", \"GEO\", \"PHRASE\", \"SERIES\", \"ONE\", \"TWO\", \"THREE\", \"FOUR\", \"FIVE\", \"SIX\", \"SEVEN\", \n",
    "              \"EIGHT\", \"NINE\", \"TEN\" ]\n",
    "BATCH_SIZE = 32\n",
    "EPOCHS = 15"
   ]
  },
  {
   "cell_type": "code",
   "execution_count": 8,
   "metadata": {},
   "outputs": [],
   "source": [
    "def create_label(img_name):\n",
    "    #categories\n",
    "    if \"book\" in img_name:\n",
    "        return 0\n",
    "    if \"film\" in img_name:\n",
    "        return 1\n",
    "    if \"show\" in img_name:\n",
    "        return 2\n",
    "    if \"geo\" in img_name:\n",
    "        return 3\n",
    "    if \"phrase\" in img_name:\n",
    "        return 4\n",
    "    if \"series\" in img_name:\n",
    "        return 5\n",
    "    #numbers\n",
    "    if \"one\" in img_name:\n",
    "        return 6\n",
    "    if \"two\" in img_name:\n",
    "        return 7\n",
    "    if \"three\" in img_name:\n",
    "        return 8\n",
    "    if \"four\" in img_name:\n",
    "        return 9\n",
    "    if \"five\" in img_name:\n",
    "        return 10\n",
    "    if \"six\" in img_name:\n",
    "        return 11\n",
    "    if \"seven\" in img_name:\n",
    "        return 12\n",
    "    if \"eight\" in img_name:\n",
    "        return 13\n",
    "    if \"nine\" in img_name:\n",
    "        return 14\n",
    "    if \"ten\" in img_name:\n",
    "        return 15"
   ]
  },
  {
   "cell_type": "code",
   "execution_count": 9,
   "metadata": {},
   "outputs": [],
   "source": [
    "def load_dataset(): \n",
    "    all_images = []\n",
    "    loaded_images = [f for f in listdir(DATASET_PATH) if isfile(join(DATASET_PATH, f))]\n",
    "    for img_name in loaded_images:\n",
    "        image = cv2.imread(DATASET_PATH + img_name,  cv2.IMREAD_GRAYSCALE)\n",
    "        image = image/255.0\n",
    "        image = cv2.resize(image, (IMG_ROWS, IMG_COLS))\n",
    "        image = image.flatten()\n",
    "        label = create_label(img_name)\n",
    "        all_images.append([image, label])\n",
    "    # shuffle the data\n",
    "    random.shuffle(all_images)\n",
    "    \n",
    "    # create np arrays\n",
    "    train_x = []\n",
    "    train_y = []\n",
    "\n",
    "    for features, label in all_images:\n",
    "        train_x.append(features)\n",
    "        train_y.append(label)\n",
    "\n",
    "    # reshape np array\n",
    "    train_x = np.array(train_x).reshape(-1, IMG_ROWS, IMG_COLS, 1)\n",
    "    train_y = np.array(train_y)\n",
    "    train_y = to_categorical(train_y, 16)\n",
    "    return train_x, train_y"
   ]
  },
  {
   "cell_type": "code",
   "execution_count": null,
   "metadata": {},
   "outputs": [],
   "source": [
    "def create_model():\n",
    "    model = Sequential()\n",
    "\n",
    "    model.add(Conv2D(48, padding='same', kernel_size=(5, 5), input_shape=(IMG_ROWS, IMG_COLS, 1)))\n",
    "    model.add(Activation(\"relu\"))\n",
    "    model.add(MaxPooling2D(pool_size=(2, 2)))\n",
    "    model.add(Dropout(0.1))\n",
    "    \n",
    "    model.add(Conv2D(48, padding='same', kernel_size=(5, 5)))\n",
    "    model.add(Activation(\"relu\"))\n",
    "    model.add(MaxPooling2D(pool_size=(2, 2)))\n",
    "    model.add(Dropout(0.2))\n",
    "    \n",
    "    model.add(Conv2D(48, padding='same', kernel_size=(3, 3)))\n",
    "    model.add(Activation(\"relu\"))\n",
    "    model.add(MaxPooling2D(pool_size=(2, 2)))\n",
    "    model.add(Dropout(0.3))\n",
    "\n",
    "    model.add(Flatten())\n",
    "\n",
    "    model.add(Dense(16, kernel_regularizer=regularizers.l1(0.001)))\n",
    "    model.add(Activation(\"softmax\"))\n",
    "\n",
    "    model.summary()\n",
    "    return model"
   ]
  },
  {
   "cell_type": "code",
   "execution_count": null,
   "metadata": {},
   "outputs": [],
   "source": [
    "def compile_fit_model(model, train_x, train_y):\n",
    "    print(len(train_x))\n",
    "    print(len(train_y))\n",
    "    # Compile model\n",
    "    model.compile(loss=categorical_crossentropy,\n",
    "                  optimizer=Adam(),\n",
    "                  metrics=[\"accuracy\"])\n",
    "\n",
    "    # Train and evaluation\n",
    "    model.fit(train_x, train_y,\n",
    "              batch_size=BATCH_SIZE, epochs=EPOCHS,\n",
    "              validation_split=0.2, verbose=1,\n",
    "              callbacks=[tensor_board])\n",
    "    model.save('models/' + SAVE_MODEL_NAME + '.model')"
   ]
  },
  {
   "cell_type": "code",
   "execution_count": null,
   "metadata": {},
   "outputs": [],
   "source": [
    "#load dataset\n",
    "TRAIN_IMAGES, TRAIN_LABELS = load_dataset()"
   ]
  },
  {
   "cell_type": "code",
   "execution_count": null,
   "metadata": {},
   "outputs": [],
   "source": [
    "# create CNN model\n",
    "cnn_model = create_model()\n",
    "compile_fit_model(cnn_model, TRAIN_IMAGES, TRAIN_LABELS)"
   ]
  },
  {
   "cell_type": "code",
   "execution_count": 10,
   "metadata": {},
   "outputs": [],
   "source": [
    "#load saved model\n",
    "saved_model = load_model('models/Charades-CNN-48x3-ThreeDropout-0.1-0.2-0.3-Kernel-5x5-Batch-32-l1-0x001' + '.model')"
   ]
  },
  {
   "cell_type": "code",
   "execution_count": null,
   "metadata": {},
   "outputs": [],
   "source": [
    "%load_ext tensorboard\n",
    "%tensorboard --logdir logs"
   ]
  },
  {
   "cell_type": "code",
   "execution_count": 13,
   "metadata": {},
   "outputs": [],
   "source": [
    "DATASET_PATH = \"test_dataset/test_number/\"\n",
    "#load test dataset\n",
    "TEST_NUM_IMAGES, TEST_NUM_LABELS = load_dataset()"
   ]
  },
  {
   "cell_type": "code",
   "execution_count": 15,
   "metadata": {},
   "outputs": [
    {
     "name": "stdout",
     "output_type": "stream",
     "text": [
      "Evaluate on test data\n",
      "603/603 [==============================] - 1s 2ms/step\n",
      "test loss, test acc: [3.301648060085366, 0.6948590278625488]\n"
     ]
    }
   ],
   "source": [
    "print(\"Evaluate on test data\")\n",
    "results_num = saved_model.evaluate(TEST_NUM_IMAGES, TEST_NUM_LABELS, batch_size=32)\n",
    "print(\"test loss, test acc:\", results_num)"
   ]
  },
  {
   "cell_type": "code",
   "execution_count": 16,
   "metadata": {},
   "outputs": [],
   "source": [
    "DATASET_PATH = \"test_dataset/test_action/\"\n",
    "#load test dataset\n",
    "TEST_ACT_IMAGES, TEST_ACT_LABELS = load_dataset()"
   ]
  },
  {
   "cell_type": "code",
   "execution_count": 17,
   "metadata": {},
   "outputs": [
    {
     "name": "stdout",
     "output_type": "stream",
     "text": [
      "Evaluate on test data\n",
      "378/378 [==============================] - 1s 2ms/step\n",
      "test loss, test acc: [0.3777725363849963, 0.9550264477729797]\n"
     ]
    }
   ],
   "source": [
    "print(\"Evaluate on test data\")\n",
    "results_act = saved_model.evaluate(TEST_ACT_IMAGES, TEST_ACT_LABELS, batch_size=32)\n",
    "print(\"test loss, test acc:\", results_act)"
   ]
  },
  {
   "cell_type": "code",
   "execution_count": 18,
   "metadata": {},
   "outputs": [],
   "source": [
    "DATASET_PATH = \"test_dataset/test_all/\"\n",
    "#load test dataset\n",
    "TEST_IMAGES, TEST_LABELS = load_dataset()"
   ]
  },
  {
   "cell_type": "code",
   "execution_count": 19,
   "metadata": {},
   "outputs": [
    {
     "name": "stdout",
     "output_type": "stream",
     "text": [
      "Evaluate on test data\n",
      "981/981 [==============================] - 2s 2ms/step\n",
      "test loss, test acc: [2.17501708455042, 0.7951070070266724]\n"
     ]
    }
   ],
   "source": [
    "print(\"Evaluate on test data\")\n",
    "results_all = saved_model.evaluate(TEST_IMAGES, TEST_LABELS, batch_size=32)\n",
    "print(\"test loss, test acc:\", results_all)"
   ]
  },
  {
   "cell_type": "code",
   "execution_count": 37,
   "metadata": {},
   "outputs": [
    {
     "data": {
      "image/png": "[encoded data removed]",
      "text/plain": [
       "<Figure size 432x288 with 1 Axes>"
      ]
     },
     "metadata": {
      "needs_background": "light"
     },
     "output_type": "display_data"
    }
   ],
   "source": [
    "# iscrtavanje slika i grafika unutar samog browsera\n",
    "%matplotlib inline \n",
    "import matplotlib.pyplot as plt\n",
    "fig = plt.figure()\n",
    "ax = fig.add_axes([0,0,1,1])\n",
    "datasets = ['Kategorije', 'Brojevi', 'Sve']\n",
    "\n",
    "accs = [results_act[1]*100, results_num[1]*100, results_all[1]*100]\n",
    "loss = [results_act[0], results_num[0], results_all[0]]\n",
    "\n",
    "ax.bar(datasets, accs)\n",
    "\n",
    "plt.savefig('acc.png', bbox_inches='tight')\n",
    "\n",
    "plt.show()"
   ]
  },
  {
   "cell_type": "code",
   "execution_count": 34,
   "metadata": {},
   "outputs": [
    {
     "data": {
      "image/png": "[encoded data removed]",
      "text/plain": [
       "<Figure size 432x288 with 1 Axes>"
      ]
     },
     "metadata": {
      "needs_background": "light"
     },
     "output_type": "display_data"
    }
   ],
   "source": [
    "# iscrtavanje slika i grafika unutar samog browsera\n",
    "%matplotlib inline \n",
    "import matplotlib.pyplot as plt\n",
    "fig = plt.figure()\n",
    "ax = fig.add_axes([0,0,1,1])\n",
    "datasets = ['Actions', 'Numbers', 'All']\n",
    "\n",
    "accs = [results_act[1]*100, results_num[1]*100, results_all[1]*100]\n",
    "loss = [results_act[0], results_num[0], results_all[0]]\n",
    "\n",
    "ax.bar(datasets, loss, color='r')\n",
    "\n",
    "plt.show()"
   ]
  },
  {
   "cell_type": "code",
   "execution_count": null,
   "metadata": {},
   "outputs": [],
   "source": []
  }
 ],
 "metadata": {
  "kernelspec": {
   "display_name": "Python 3",
   "language": "python",
   "name": "python3"
  },
  "language_info": {
   "codemirror_mode": {
    "name": "ipython",
    "version": 3
   },
   "file_extension": ".py",
   "mimetype": "text/x-python",
   "name": "python",
   "nbconvert_exporter": "python",
   "pygments_lexer": "ipython3",
   "version": "3.7.2"
  }
 },
 "nbformat": 4,
 "nbformat_minor": 2
}
