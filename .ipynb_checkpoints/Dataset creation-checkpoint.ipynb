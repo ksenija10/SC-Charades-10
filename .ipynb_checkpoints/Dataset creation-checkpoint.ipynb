{
 "cells": [
  {
   "cell_type": "code",
   "execution_count": 2,
   "metadata": {},
   "outputs": [],
   "source": [
    "import cv2\n",
    "import numpy as np\n",
    "import matplotlib\n",
    "import matplotlib.pyplot as plt"
   ]
  },
  {
   "cell_type": "code",
   "execution_count": 3,
   "metadata": {},
   "outputs": [],
   "source": [
    "from os import listdir\n",
    "from os.path import isfile, join, normpath\n",
    "from os import walk, rename"
   ]
  },
  {
   "cell_type": "code",
   "execution_count": 4,
   "metadata": {},
   "outputs": [
    {
     "name": "stdout",
     "output_type": "stream",
     "text": [
      "WARNING:tensorflow:From c:\\users\\evaje\\onedrive\\desktop\\skola\\7_semestar\\soft kompjuting\\vezbe\\sc-2020-siit\\env\\lib\\site-packages\\tensorflow_core\\python\\compat\\v2_compat.py:65: disable_resource_variables (from tensorflow.python.ops.variable_scope) is deprecated and will be removed in a future version.\n",
      "Instructions for updating:\n",
      "non-resource variables are not supported in the long term\n"
     ]
    }
   ],
   "source": [
    "import tensorflow.compat.v1 as tf\n",
    "tf.disable_v2_behavior()"
   ]
  },
  {
   "cell_type": "code",
   "execution_count": 5,
   "metadata": {},
   "outputs": [],
   "source": [
    "from skimage.transform import rescale"
   ]
  },
  {
   "cell_type": "code",
   "execution_count": 6,
   "metadata": {},
   "outputs": [
    {
     "ename": "FileNotFoundError",
     "evalue": "[WinError 3] The system cannot find the path specified: 'dataset/valjda/mask/sve/'",
     "output_type": "error",
     "traceback": [
      "\u001b[1;31m---------------------------------------------------------------------------\u001b[0m",
      "\u001b[1;31mFileNotFoundError\u001b[0m                         Traceback (most recent call last)",
      "\u001b[1;32m<ipython-input-6-d36b81494724>\u001b[0m in \u001b[0;36m<module>\u001b[1;34m\u001b[0m\n\u001b[0;32m      2\u001b[0m \u001b[0minput_path\u001b[0m \u001b[1;33m=\u001b[0m \u001b[1;34m\"dataset/valjda/mask/sve/\"\u001b[0m\u001b[1;33m\u001b[0m\u001b[1;33m\u001b[0m\u001b[0m\n\u001b[0;32m      3\u001b[0m \u001b[1;33m\u001b[0m\u001b[0m\n\u001b[1;32m----> 4\u001b[1;33m \u001b[0mall_images\u001b[0m \u001b[1;33m=\u001b[0m \u001b[1;33m[\u001b[0m\u001b[0mf\u001b[0m \u001b[1;32mfor\u001b[0m \u001b[0mf\u001b[0m \u001b[1;32min\u001b[0m \u001b[0mlistdir\u001b[0m\u001b[1;33m(\u001b[0m\u001b[0minput_path\u001b[0m\u001b[1;33m)\u001b[0m \u001b[1;32mif\u001b[0m \u001b[0misfile\u001b[0m\u001b[1;33m(\u001b[0m\u001b[0mjoin\u001b[0m\u001b[1;33m(\u001b[0m\u001b[0minput_path\u001b[0m\u001b[1;33m,\u001b[0m \u001b[0mf\u001b[0m\u001b[1;33m)\u001b[0m\u001b[1;33m)\u001b[0m\u001b[1;33m]\u001b[0m\u001b[1;33m\u001b[0m\u001b[1;33m\u001b[0m\u001b[0m\n\u001b[0m\u001b[0;32m      5\u001b[0m \u001b[1;32mfor\u001b[0m \u001b[0mimg_name\u001b[0m \u001b[1;32min\u001b[0m \u001b[0mall_images\u001b[0m\u001b[1;33m:\u001b[0m\u001b[1;33m\u001b[0m\u001b[1;33m\u001b[0m\u001b[0m\n\u001b[0;32m      6\u001b[0m     \u001b[0mprint\u001b[0m\u001b[1;33m(\u001b[0m\u001b[0mimg_name\u001b[0m\u001b[1;33m)\u001b[0m\u001b[1;33m\u001b[0m\u001b[1;33m\u001b[0m\u001b[0m\n",
      "\u001b[1;31mFileNotFoundError\u001b[0m: [WinError 3] The system cannot find the path specified: 'dataset/valjda/mask/sve/'"
     ]
    }
   ],
   "source": [
    "# generate labels .txt\n",
    "input_path = \"dataset/valjda/mask/sve/\"\n",
    "\n",
    "all_images = [f for f in listdir(input_path) if isfile(join(input_path, f))]\n",
    "for img_name in all_images:\n",
    "    print(img_name)\n",
    "print(len(all_images))"
   ]
  },
  {
   "cell_type": "code",
   "execution_count": 7,
   "metadata": {},
   "outputs": [
    {
     "name": "stdout",
     "output_type": "stream",
     "text": [
      "0\n"
     ]
    }
   ],
   "source": [
    "# rename files\n",
    "input_path = \"pre/test_data/test_number/\"\n",
    "\n",
    "fname = []\n",
    "count = 0\n",
    "for root, d_names, f_names in walk(input_path):\n",
    "    for f in f_names:\n",
    "        if root == \"pre/test_data/test_number/ten\":\n",
    "            new_name = \"ten_\" + str(count) + \".png\"\n",
    "            src = root + \"/\" + f\n",
    "            dst = root + \"/\" + new_name \n",
    "            rename(src, dst)\n",
    "            count += 1\n",
    "        normalised = normpath(root+\"/\"+f)\n",
    "        fname.append(normalised)\n",
    "print(len(fname))"
   ]
  },
  {
   "cell_type": "code",
   "execution_count": 8,
   "metadata": {},
   "outputs": [
    {
     "ename": "ValueError",
     "evalue": "Input must be >= 2-d.",
     "output_type": "error",
     "traceback": [
      "\u001b[1;31m---------------------------------------------------------------------------\u001b[0m",
      "\u001b[1;31mValueError\u001b[0m                                Traceback (most recent call last)",
      "\u001b[1;32m<ipython-input-8-1431bc8c786b>\u001b[0m in \u001b[0;36m<module>\u001b[1;34m\u001b[0m\n\u001b[0;32m      2\u001b[0m \u001b[1;33m\u001b[0m\u001b[0m\n\u001b[0;32m      3\u001b[0m \u001b[1;31m# NumPy.'img' = A single image.\u001b[0m\u001b[1;33m\u001b[0m\u001b[1;33m\u001b[0m\u001b[1;33m\u001b[0m\u001b[0m\n\u001b[1;32m----> 4\u001b[1;33m \u001b[0mflip_1\u001b[0m \u001b[1;33m=\u001b[0m \u001b[0mnp\u001b[0m\u001b[1;33m.\u001b[0m\u001b[0mfliplr\u001b[0m\u001b[1;33m(\u001b[0m\u001b[0mimg\u001b[0m\u001b[1;33m)\u001b[0m\u001b[1;33m\u001b[0m\u001b[1;33m\u001b[0m\u001b[0m\n\u001b[0m\u001b[0;32m      5\u001b[0m \u001b[1;31m# TensorFlow. 'x' = A placeholder for an image.\u001b[0m\u001b[1;33m\u001b[0m\u001b[1;33m\u001b[0m\u001b[1;33m\u001b[0m\u001b[0m\n\u001b[0;32m      6\u001b[0m \u001b[0mshape\u001b[0m \u001b[1;33m=\u001b[0m \u001b[1;33m[\u001b[0m\u001b[0mheight\u001b[0m\u001b[1;33m,\u001b[0m \u001b[0mwidth\u001b[0m\u001b[1;33m,\u001b[0m \u001b[0mchannels\u001b[0m\u001b[1;33m]\u001b[0m\u001b[1;33m\u001b[0m\u001b[1;33m\u001b[0m\u001b[0m\n",
      "\u001b[1;32m<__array_function__ internals>\u001b[0m in \u001b[0;36mfliplr\u001b[1;34m(*args, **kwargs)\u001b[0m\n",
      "\u001b[1;32mc:\\users\\evaje\\onedrive\\desktop\\skola\\7_semestar\\soft kompjuting\\vezbe\\sc-2020-siit\\env\\lib\\site-packages\\numpy\\lib\\twodim_base.py\u001b[0m in \u001b[0;36mfliplr\u001b[1;34m(m)\u001b[0m\n\u001b[0;32m     93\u001b[0m     \u001b[0mm\u001b[0m \u001b[1;33m=\u001b[0m \u001b[0masanyarray\u001b[0m\u001b[1;33m(\u001b[0m\u001b[0mm\u001b[0m\u001b[1;33m)\u001b[0m\u001b[1;33m\u001b[0m\u001b[1;33m\u001b[0m\u001b[0m\n\u001b[0;32m     94\u001b[0m     \u001b[1;32mif\u001b[0m \u001b[0mm\u001b[0m\u001b[1;33m.\u001b[0m\u001b[0mndim\u001b[0m \u001b[1;33m<\u001b[0m \u001b[1;36m2\u001b[0m\u001b[1;33m:\u001b[0m\u001b[1;33m\u001b[0m\u001b[1;33m\u001b[0m\u001b[0m\n\u001b[1;32m---> 95\u001b[1;33m         \u001b[1;32mraise\u001b[0m \u001b[0mValueError\u001b[0m\u001b[1;33m(\u001b[0m\u001b[1;34m\"Input must be >= 2-d.\"\u001b[0m\u001b[1;33m)\u001b[0m\u001b[1;33m\u001b[0m\u001b[1;33m\u001b[0m\u001b[0m\n\u001b[0m\u001b[0;32m     96\u001b[0m     \u001b[1;32mreturn\u001b[0m \u001b[0mm\u001b[0m\u001b[1;33m[\u001b[0m\u001b[1;33m:\u001b[0m\u001b[1;33m,\u001b[0m \u001b[1;33m:\u001b[0m\u001b[1;33m:\u001b[0m\u001b[1;33m-\u001b[0m\u001b[1;36m1\u001b[0m\u001b[1;33m]\u001b[0m\u001b[1;33m\u001b[0m\u001b[1;33m\u001b[0m\u001b[0m\n\u001b[0;32m     97\u001b[0m \u001b[1;33m\u001b[0m\u001b[0m\n",
      "\u001b[1;31mValueError\u001b[0m: Input must be >= 2-d."
     ]
    }
   ],
   "source": [
    "img = cv2.imread(\"dataset/valjda/img_0.png\")\n",
    "\n",
    "# NumPy.'img' = A single image.\n",
    "flip_1 = np.fliplr(img)\n",
    "# TensorFlow. 'x' = A placeholder for an image.\n",
    "shape = [height, width, channels]\n",
    "x = tf.placeholder(dtype = tf.float32, shape = shape)\n",
    "flip_2 = tf.image.flip_up_down(x)\n",
    "flip_3 = tf.image.flip_left_right(x)\n",
    "flip_4 = tf.image.random_flip_up_down(x)\n",
    "flip_5 = tf.image.random_flip_left_right(x)\n",
    "\n",
    "cv2.imshow(\"img\", img)\n",
    "cv2.imshow(\"flip1\", flip_1)\n",
    "#cv2.imshow(\"flip2\", flip_2)\n",
    "#cv2.imshow(\"flip3\", flip_3)\n",
    "#cv2.imshow(\"flip4\", flip_4)\n",
    "cv2.waitKey(0)\n",
    "cv2.destroyAllWindows()"
   ]
  },
  {
   "cell_type": "code",
   "execution_count": null,
   "metadata": {},
   "outputs": [],
   "source": [
    "def flip_all(input_path, output_path):\n",
    "    all_images = [f for f in listdir(input_path) if isfile(join(input_path, f))]\n",
    "    for img_name in all_images:\n",
    "        img = cv2.imread(input_path + img_name)\n",
    "        \n",
    "        flip_img = np.fliplr(img)\n",
    "        \n",
    "        print(output_path+\"flip_\"+img_name)\n",
    "        cv2.imwrite(output_path+\"flip_\"+img_name, flip_img)"
   ]
  },
  {
   "cell_type": "code",
   "execution_count": null,
   "metadata": {},
   "outputs": [],
   "source": [
    "def scale_inward(input_path, output_path):\n",
    "    all_images = [f for f in listdir(input_path) if isfile(join(input_path, f))]\n",
    "    for img_name in all_images:\n",
    "        img = cv2.imread(input_path + img_name)\n",
    "        \n",
    "        scale_in = rescale(img, scale=0.5, mode='constant')\n",
    "        \n",
    "        print(output_path+\"scale_\"+img_name)\n",
    "        cv2.imwrite(output_path+\"scale_\"+img_name, scale_in)"
   ]
  },
  {
   "cell_type": "code",
   "execution_count": null,
   "metadata": {},
   "outputs": [],
   "source": [
    "img = cv2.imread(\"dataset/valjda/img_0.png\")\n",
    "print(img)\n",
    "scale_in = rescale(img, scale=0.5, mode='constant')\n",
    "print(scale_in)\n",
    "cv2.imshow(\"scale\", scale_in)\n",
    "cv2.waitKey(0)\n",
    "cv2.destroyAllWindows()"
   ]
  },
  {
   "cell_type": "code",
   "execution_count": null,
   "metadata": {},
   "outputs": [],
   "source": [
    "input_path = \"dataset/valjda/\"\n",
    "output_path = \"dataset/valjda/flip/\"\n",
    "flip_all(input_path, output_path)"
   ]
  },
  {
   "cell_type": "code",
   "execution_count": null,
   "metadata": {},
   "outputs": [],
   "source": [
    "# iscrtavanje slika i grafika unutar samog browsera\n",
    "%matplotlib inline \n",
    "# prikaz vecih slika \n",
    "matplotlib.rcParams['figure.figsize'] = 16,12"
   ]
  },
  {
   "cell_type": "code",
   "execution_count": null,
   "metadata": {},
   "outputs": [],
   "source": [
    "x=160\n",
    "y=25\n",
    "h=370\n",
    "w=345\n",
    "clr = (0, 255, 0)\n",
    "brd = 2"
   ]
  },
  {
   "cell_type": "code",
   "execution_count": null,
   "metadata": {},
   "outputs": [],
   "source": [
    "y_0 = y+brd\n",
    "y_1 = y+h-brd-1\n",
    "x_0 = x+brd\n",
    "x_1 = x+w-brd-1"
   ]
  },
  {
   "cell_type": "code",
   "execution_count": null,
   "metadata": {},
   "outputs": [],
   "source": [
    "cam = cv2.VideoCapture(0)\n",
    "\n",
    "cv2.namedWindow(\"Dataset capture\")\n",
    "\n",
    "img_counter = 0\n",
    "\n",
    "while True:\n",
    "    ret, frame = cam.read()\n",
    "    if not ret:\n",
    "        print(\"failed to grab frame\")\n",
    "        break\n",
    "\n",
    "    #cv2.rectangle(frame, (x,y), (x+w,y+h), clr, brd)\n",
    "        \n",
    "    cv2.imshow(\"Dataset capture\", frame)\n",
    "\n",
    "    k = cv2.waitKey(1)\n",
    "    if k%256 == 27:\n",
    "        # ESC pressed\n",
    "        print(\"Escape hit, closing...\")\n",
    "        break\n",
    "    elif k%256 == 32:\n",
    "        # SPACE pressed\n",
    "        img_name = \"dataset/img_{}.png\".format(img_counter)\n",
    "        cv2.imwrite(img_name, frame)\n",
    "        print(\"{} written!\".format(img_name))\n",
    "        img_counter += 1\n",
    "\n",
    "cam.release()\n",
    "\n",
    "cv2.destroyAllWindows()"
   ]
  },
  {
   "cell_type": "code",
   "execution_count": null,
   "metadata": {},
   "outputs": [],
   "source": [
    "#x=160\n",
    "#y=25\n",
    "#h=370\n",
    "#w=345\n",
    "# cropping the image\n",
    "y_0 = y+brd\n",
    "y_1 = y+h-brd-1\n",
    "x_0 = x+brd\n",
    "x_1 = x+w-brd-1\n",
    "\n",
    "path = \"dataset/proba/\"\n",
    "crop_path = \"dataset/proba/crop/\"\n",
    "\n",
    "all_images = [f for f in listdir(path) if isfile(join(path, f))]\n",
    "for img_name in all_images:\n",
    "    img = cv2.imread(path + img_name)\n",
    "    crop_img = img[y_0:y_1, x_0:x_1]\n",
    "    print(crop_path+\"cropped_\"+img_name)\n",
    "    cv2.imwrite(crop_path+\"cropped_\"+img_name, crop_img)"
   ]
  },
  {
   "cell_type": "code",
   "execution_count": null,
   "metadata": {},
   "outputs": [],
   "source": [
    "# hsv\n",
    "frame = cv2.imread(\"dataset/proba/crop/cropped_img_0.png\")\n",
    "# gbr to hsv\n",
    "hsv_img = cv2.cvtColor(frame, cv2.COLOR_BGR2HSV)\n",
    "# skin color range for hsv color space \n",
    "hsv_mask = cv2.inRange(hsv_img, (0, 15, 0), (17,170,255))\n",
    "# otklanjanje suma\n",
    "kernel = cv2.getStructuringElement(cv2.MORPH_ELLIPSE, (3, 3))\n",
    "img_ero = cv2.erode(hsv_mask, kernel, iterations=4)\n",
    "img_open = cv2.dilate(img_ero, kernel, iterations=7)\n",
    "#plt.imshow(img_open)\n",
    "#plt.imshow(hsv_mask)\n",
    "hsv_result = cv2.bitwise_not(img_open)\n",
    "plt.imshow(hsv_result, 'gray')"
   ]
  },
  {
   "cell_type": "code",
   "execution_count": null,
   "metadata": {
    "scrolled": true
   },
   "outputs": [],
   "source": [
    "hello = cv2.imread(\"dataset/proba/crop/cropped_img_0.png\")\n",
    "hsvTry(hello)"
   ]
  },
  {
   "cell_type": "code",
   "execution_count": null,
   "metadata": {},
   "outputs": [],
   "source": [
    "def preprocess(action_frame):\n",
    "\n",
    "    blur = cv2.GaussianBlur(action_frame, (3,3), 0)\n",
    "    hsv = cv2.cvtColor(blur, cv2.COLOR_RGB2HSV)\n",
    "\n",
    "    lower_color = np.array([108, 23, 82])\n",
    "    upper_color = np.array([179, 255, 255])\n",
    "\n",
    "    mask = cv2.inRange(hsv, lower_color, upper_color)\n",
    "    blur = cv2.medianBlur(mask, 5)\n",
    "\n",
    "    kernel = cv2.getStructuringElement(cv2.MORPH_ELLIPSE, (8, 8))\n",
    "    hsv_d = cv2.dilate(blur, kernel)\n",
    "\n",
    "    return hsv_d"
   ]
  },
  {
   "cell_type": "code",
   "execution_count": null,
   "metadata": {
    "scrolled": false
   },
   "outputs": [],
   "source": [
    "x=160\n",
    "y=25\n",
    "h=370\n",
    "w=345\n",
    "clr = (0, 255, 0)\n",
    "brd = 2\n",
    "\n",
    "y_0 = y+brd\n",
    "y_1 = y+h-brd-1\n",
    "x_0 = x+brd\n",
    "x_1 = x+w-brd-1\n",
    "\n",
    "img_name = \"img_76\"\n",
    "\n",
    "def preprocess_pokusaj(img):\n",
    "    # izecanje regiona od znacaja\n",
    "    crop_img = img[y_0:y_1, x_0:x_1]\n",
    "    # otkljanjanje suma -> gausovsko zamucivanje\n",
    "    blur_img = cv2.GaussianBlur(crop_img, (5,5), 0)\n",
    "    # dodavanje maske u tonu koze -> hsv (dobar za izdvajanje objekata odredjene boje sa slike)\n",
    "    # konverzija u hsv prstor boja\n",
    "    hsv_img = cv2.cvtColor(blur_img, cv2.COLOR_BGR2HSV)\n",
    "    # odredjivanje donje i gornje granice boje pod koje spada boja koze\n",
    "    lower_hsv = (0, 7, 55)\n",
    "    upper_hsv = (15, 190, 255)\n",
    "    # tresholding pomocu inRange\n",
    "    hsv_mask = cv2.inRange(hsv_img, lower_hsv, upper_hsv)\n",
    "    # odstranjujemo sum\n",
    "    hsv_blur_mask = cv2.medianBlur(hsv_mask, 3)\n",
    "    kernel = cv2.getStructuringElement(cv2.MORPH_ELLIPSE, (3, 3))\n",
    "    hsv_ero = cv2.erode(hsv_blur_mask, kernel, iterations=1)\n",
    "    hsv_open = cv2.dilate(hsv_ero, kernel, iterations=4)\n",
    "    # konture (MOZDA)\n",
    "    contours, hierarchy = cv2.findContours(hsv_open, cv2.RETR_LIST, cv2.CHAIN_APPROX_SIMPLE)\n",
    "    approved_contours = []\n",
    "    for contour in contours:\n",
    "        center, size, angle = cv2.minAreaRect(contour)\n",
    "        width, height = size\n",
    "        if width > 60 and height > 50:\n",
    "            approved_contours.append(contour)\n",
    "    # obradjena slika\n",
    "    height, width, channels = crop_img.shape\n",
    "    black = np.zeros((height, width))\n",
    "    \n",
    "    # translacija -> augmentacija dataset-a\n",
    "    #if len(approved_contours) == 1:\n",
    "        #translate_original(approved_contours[0], height, width, img_name)\n",
    "    #translate(approved_contours, height, width, img_name+\"n\")\n",
    "\n",
    "    cv2.fillPoly(black, approved_contours, color=(255,255,255))\n",
    "    # povratna vrednost\n",
    "    return black\n",
    "\n",
    "img = cv2.imread(\"dataset/\"+ img_name +\".png\")\n",
    "#img = np.fliplr(img)\n",
    "cv2.imshow(\"jebloteime\", img)\n",
    "b = preprocess_pokusaj(img)\n",
    "cv2.imshow(\"jebloteIme\", b)\n",
    "#cv2.imwrite(\"dataset/valjda/mask/10/augm/\"+img_name+\".png\", b)\n",
    "cv2.waitKey(0)\n",
    "cv2.destroyAllWindows()"
   ]
  },
  {
   "cell_type": "code",
   "execution_count": null,
   "metadata": {},
   "outputs": [],
   "source": [
    "def translate(contours, img_height, img_width, img_name):\n",
    "    print(\"pozvana funkcija\")\n",
    "    contour_left = contours[0]\n",
    "    contour_right = contours[1]\n",
    "    # amax po osi 0 -> odgovara maksimalnom x i y konture\n",
    "    contour_max_left = np.amax(contour_left, 0)\n",
    "    x_max_l = contour_max_left[0][0]\n",
    "    y_max_l = contour_max_left[0][1]\n",
    "    contour_max_right = np.amax(contour_right, 0)\n",
    "    x_max_r = contour_max_right[0][0]\n",
    "    y_max_r = contour_max_right[0][1]\n",
    "\n",
    "    shift_right = np.array([[20, 0]])\n",
    "    shift_down = np.array([[0, 20]])\n",
    "    img_count = 0\n",
    "    # shift right\n",
    "    while x_max_r < img_width - 25:\n",
    "        print(\"desno\")\n",
    "        contour_max_right = np.amax(contour_right, 0)\n",
    "        x_max_r = contour_max_right[0][0]\n",
    "        y_max_r = contour_max_right[0][1]\n",
    "        # shift down\n",
    "        contour_r_temp = np.copy(contour_right)\n",
    "        contour_l_temp = np.copy(contour_left)\n",
    "        while y_max_r < img_height - 45:\n",
    "            black = np.zeros((img_height, img_width))\n",
    "            # save image\n",
    "            print(\"dole\")\n",
    "            cv2.fillPoly(black, [contour_r_temp, contour_l_temp], color=(255,255,255))\n",
    "            #print(\"dataset/valjda/mask/6/augm/\"+img_name+str(img_count))\n",
    "            cv2.imwrite(\"dataset/valjda/mask/10/augm/\"+img_name+str(img_count)+\".png\", black)\n",
    "            img_count += 1\n",
    "            # do shift down\n",
    "            contour_max_right = np.amax(contour_r_temp, 0)\n",
    "            y_max_r = contour_max_right[0][1]\n",
    "            contour_r_temp += shift_down[:, None]\n",
    "            contour_l_temp += shift_down[:, None]\n",
    "        contour_right += shift_right[:, None]\n",
    "        contour_left += shift_right[:, None]\n",
    "    # poslednja vrsta shift dole\n",
    "    #contour_r_temp = np.copy(contour_right)\n",
    "    #contour_l_temp = np.copy(contour_left)\n",
    "    contour_max_right = np.amax(contour_right, 0)\n",
    "    y_max_r = contour_max_right[0][1]\n",
    "    while y_max_r < img_height - 25:\n",
    "        black = np.zeros((img_height, img_width))\n",
    "        # save image\n",
    "        print(\"poslednje dole\")\n",
    "        cv2.fillPoly(black, [contour_left, contour_right], color=(255,255,255))\n",
    "        #print(\"dataset/valjda/mask/6/augm/\"+img_name+str(img_count))\n",
    "        cv2.imwrite(\"dataset/valjda/mask/10/augm/\"+img_name+str(img_count)+\".png\", black)\n",
    "        img_count += 1\n",
    "        # do shift down\n",
    "        contour_max_right = np.amax(contour_right, 0)\n",
    "        y_max_r = contour_max_right[0][1]\n",
    "        contour_right += shift_down[:, None]\n",
    "        contour_left += shift_down[:, None]\n",
    "    # total images created\n",
    "    print(\"total images created\", img_count)\n"
   ]
  },
  {
   "cell_type": "code",
   "execution_count": null,
   "metadata": {},
   "outputs": [],
   "source": [
    "def translate_original(contour, img_height, img_width, img_name):\n",
    "    # amax po osi 0 -> odgovara maksimalnom x i y konture\n",
    "    contour_max = np.amax(contour, 0)\n",
    "    x_max = contour_max[0][0]\n",
    "    y_max = contour_max[0][1]\n",
    "    shift_right = np.array([[20, 0]])\n",
    "    shift_down = np.array([[0, 20]])\n",
    "    img_count = 0\n",
    "    # shift right\n",
    "    while x_max < img_width - 45:\n",
    "        contour_max = np.amax(contour, 0)\n",
    "        x_max = contour_max[0][0]\n",
    "        y_max = contour_max[0][1]\n",
    "        # shift down\n",
    "        contour_temp = np.copy(contour)\n",
    "        while y_max < img_height - 45:\n",
    "            black = np.zeros((img_height, img_width))\n",
    "            # save image\n",
    "            cv2.fillPoly(black, [contour_temp], color=(255,255,255))\n",
    "            #print(\"dataset/valjda/mask/3/augm/\"+img_name+str(img_count))\n",
    "            cv2.imwrite(\"dataset/valjda/mask/2/augm/\"+img_name+str(img_count)+\".png\", black)\n",
    "            img_count += 1\n",
    "            # do shift down\n",
    "            contour_max = np.amax(contour_temp, 0)\n",
    "            y_max = contour_max[0][1]\n",
    "            contour_temp += shift_down[:, None]\n",
    "        contour += shift_right[:, None]\n",
    "    # poslednja vrsta shift dole\n",
    "    contour_max = np.amax(contour, 0)\n",
    "    y_max = contour_max[0][1]\n",
    "    while y_max < img_height - 25:\n",
    "        black = np.zeros((img_height, img_width))\n",
    "        # save image\n",
    "        cv2.fillPoly(black, [contour], color=(255,255,255))\n",
    "        #print(\"dataset/valjda/mask/3/augm/\"+img_name+str(img_count))\n",
    "        cv2.imwrite(\"dataset/valjda/mask/2/augm/\"+img_name+str(img_count)+\".png\", black)\n",
    "        img_count += 1\n",
    "        # do shift down\n",
    "        contour_max = np.amax(contour, 0)\n",
    "        y_max = contour_max[0][1]\n",
    "        contour += shift_down[:, None]\n",
    "    # total images created\n",
    "    print(\"total images created\", img_count)\n"
   ]
  },
  {
   "cell_type": "code",
   "execution_count": null,
   "metadata": {},
   "outputs": [],
   "source": [
    "def preprocess_dataset(path, mask_path):\n",
    "    all_images = [f for f in listdir(path) if isfile(join(path, f))]\n",
    "    for img_name in all_images:\n",
    "        img = cv2.imread(path + img_name)\n",
    "        mask = preprocess_pokusaj(img)\n",
    "        print(mask_path+img_name)\n",
    "        cv2.imwrite(mask_path+img_name, mask)"
   ]
  },
  {
   "cell_type": "code",
   "execution_count": null,
   "metadata": {
    "scrolled": true
   },
   "outputs": [],
   "source": [
    "path = \"dataset/valjda/\"\n",
    "mask_path = \"dataset/valjda/mask/\"\n",
    "\n",
    "path = \"dataset/valjda/flip/\"\n",
    "mask_path = \"dataset/valjda/mask/\"\n",
    "preprocess_dataset(path, mask_path)"
   ]
  },
  {
   "cell_type": "code",
   "execution_count": null,
   "metadata": {},
   "outputs": [],
   "source": [
    "img = cv2.imread(\"dataset/valjda/img_0.png\")\n",
    "cv2.imshow(\"original\", img)\n",
    "blur = cv2.GaussianBlur(img, (5,5), 0)\n",
    "#cv2.imshow(\"gaussian blur\", blur)\n",
    "\n",
    "hsv_img = cv2.cvtColor(blur, cv2.COLOR_BGR2HSV)\n",
    "cv2.imshow(\"hsv_img\", hsv_img)\n",
    "#hsv_mask = cv2.inRange(hsv_img, (0, 15, 0), (17, 170, 255))\n",
    "#hsv_mask = cv2.inRange(hsv_img, (108, 23, 82), (179, 255, 255))\n",
    "hsv_mask = cv2.inRange(hsv_img, (0, 7, 55), (15, 190, 255))\n",
    "cv2.imshow(\"hsv_mask\", hsv_mask)\n",
    "'''#MOZE\n",
    "blur = cv2.medianBlur(hsv_mask, 3)\n",
    "cv2.imshow(\"after_hsv_blur\", blur)\n",
    "\n",
    "kernel = cv2.getStructuringElement(cv2.MORPH_ELLIPSE, (7, 7))\n",
    "img_ero = cv2.erode(blur, kernel, iterations=1)\n",
    "img_open = cv2.dilate(img_ero, kernel, iterations=3)\n",
    "cv2.imshow(\"otvaranje\", img_open)\n",
    "\n",
    "kernel = cv2.getStructuringElement(cv2.MORPH_ELLIPSE, (8, 8))\n",
    "hsv_d = cv2.dilate(blur, kernel)\n",
    "cv2.imshow(\"dilacija\", hsv_d)\n",
    "'''\n",
    "cv2.waitKey(0)\n",
    "cv2.destroyAllWindows()"
   ]
  },
  {
   "cell_type": "code",
   "execution_count": null,
   "metadata": {},
   "outputs": [],
   "source": [
    "# KONTURE PROBA\n",
    "img = cv2.imread(\"dataset/proba/crop/cropped_img_0.png\")\n",
    "#cv2.imshow(\"original\", img)\n",
    "blur = cv2.GaussianBlur(img, (5,5), 0)\n",
    "#cv2.imshow(\"gaussian blur\", blur)\n",
    "\n",
    "hsv_img = cv2.cvtColor(blur, cv2.COLOR_BGR2HSV)\n",
    "cv2.imshow(\"hsv_img\", hsv_img)\n",
    "#hsv_mask = cv2.inRange(hsv_img, (0, 15, 0), (17, 170, 255))\n",
    "#hsv_mask = cv2.inRange(hsv_img, (108, 23, 82), (179, 255, 255))\n",
    "hsv_mask = cv2.inRange(hsv_img, (0, 7, 55), (15, 190, 255))\n",
    "cv2.imshow(\"hsv_mask\", hsv_mask)\n",
    "#MOZE\n",
    "blur = cv2.medianBlur(hsv_mask, 3)\n",
    "cv2.imshow(\"after_hsv_blur\", blur)\n",
    "\n",
    "kernel = cv2.getStructuringElement(cv2.MORPH_ELLIPSE, (3, 3))\n",
    "img_ero = cv2.erode(blur, kernel, iterations=1)\n",
    "img_open = cv2.dilate(img_ero, kernel, iterations=4)\n",
    "cv2.imshow(\"otvaranje\", img_open)\n",
    "\n",
    "contours, hierarchy = cv2.findContours(blur, cv2.RETR_LIST, cv2.CHAIN_APPROX_SIMPLE)\n",
    "#cv2.drawContours(img, contours, -1, (255, 0, 0), 1)\n",
    "#cv2.imshow(\"konture\", img)\n",
    "\n",
    "approved_contours = []\n",
    "for contour in contours:\n",
    "    center, size, angle = cv2.minAreaRect(contour)\n",
    "    width, height = size\n",
    "    if width > 100 and height > 100:\n",
    "        approved_contours.append(contour)\n",
    "\n",
    "height, width, channels = img.shape\n",
    "black = np.zeros( (height, width) )\n",
    "cv2.fillPoly(black, approved_contours, color=(255,255,255))\n",
    "#cv2.drawContours(img, approved_contours, -1, (255, 0, 0), 1)\n",
    "cv2.imshow(\"konture\", black)\n",
    "\n",
    "k = cv2.waitKey(0)\n",
    "cv2.destroyAllWindows()"
   ]
  },
  {
   "cell_type": "code",
   "execution_count": 1,
   "metadata": {},
   "outputs": [
    {
     "ename": "NameError",
     "evalue": "name 'cv2' is not defined",
     "output_type": "error",
     "traceback": [
      "\u001b[1;31m---------------------------------------------------------------------------\u001b[0m",
      "\u001b[1;31mNameError\u001b[0m                                 Traceback (most recent call last)",
      "\u001b[1;32m<ipython-input-1-557bdd016d83>\u001b[0m in \u001b[0;36m<module>\u001b[1;34m\u001b[0m\n\u001b[1;32m----> 1\u001b[1;33m \u001b[0mimg\u001b[0m \u001b[1;33m=\u001b[0m \u001b[0mcv2\u001b[0m\u001b[1;33m.\u001b[0m\u001b[0mimread\u001b[0m\u001b[1;33m(\u001b[0m\u001b[1;34m\"img_0.png\"\u001b[0m\u001b[1;33m)\u001b[0m\u001b[1;33m\u001b[0m\u001b[1;33m\u001b[0m\u001b[0m\n\u001b[0m\u001b[0;32m      2\u001b[0m \u001b[0mcv2\u001b[0m\u001b[1;33m.\u001b[0m\u001b[0mimshow\u001b[0m\u001b[1;33m(\u001b[0m\u001b[1;34m\"original\"\u001b[0m\u001b[1;33m,\u001b[0m \u001b[0mimg\u001b[0m\u001b[1;33m)\u001b[0m\u001b[1;33m\u001b[0m\u001b[1;33m\u001b[0m\u001b[0m\n\u001b[0;32m      3\u001b[0m \u001b[1;31m#img = cv2.cvtColor(img, cv2.COLOR_BGR2RGB)\u001b[0m\u001b[1;33m\u001b[0m\u001b[1;33m\u001b[0m\u001b[1;33m\u001b[0m\u001b[0m\n\u001b[0;32m      4\u001b[0m \u001b[0mhsv_d\u001b[0m \u001b[1;33m=\u001b[0m \u001b[0mpreprocess\u001b[0m\u001b[1;33m(\u001b[0m\u001b[0mimg\u001b[0m\u001b[1;33m)\u001b[0m\u001b[1;33m\u001b[0m\u001b[1;33m\u001b[0m\u001b[0m\n\u001b[0;32m      5\u001b[0m \u001b[0mplt\u001b[0m\u001b[1;33m.\u001b[0m\u001b[0mimshow\u001b[0m\u001b[1;33m(\u001b[0m\u001b[0mhsv_d\u001b[0m\u001b[1;33m)\u001b[0m\u001b[1;33m\u001b[0m\u001b[1;33m\u001b[0m\u001b[0m\n",
      "\u001b[1;31mNameError\u001b[0m: name 'cv2' is not defined"
     ]
    }
   ],
   "source": [
    "#img = cv2.cvtColor(img, cv2.COLOR_BGR2RGB)\n",
    "hsv_d = preprocess(img)\n",
    "plt.imshow(hsv_d)"
   ]
  },
  {
   "cell_type": "code",
   "execution_count": null,
   "metadata": {},
   "outputs": [],
   "source": []
  }
 ],
 "metadata": {
  "kernelspec": {
   "display_name": "Python 3",
   "language": "python",
   "name": "python3"
  },
  "language_info": {
   "codemirror_mode": {
    "name": "ipython",
    "version": 3
   },
   "file_extension": ".py",
   "mimetype": "text/x-python",
   "name": "python",
   "nbconvert_exporter": "python",
   "pygments_lexer": "ipython3",
   "version": "3.7.2"
  }
 },
 "nbformat": 4,
 "nbformat_minor": 2
}
