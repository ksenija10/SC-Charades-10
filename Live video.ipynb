{
 "cells": [
  {
   "cell_type": "code",
   "execution_count": 1,
   "metadata": {},
   "outputs": [
    {
     "name": "stderr",
     "output_type": "stream",
     "text": [
      "Using TensorFlow backend.\n"
     ]
    }
   ],
   "source": [
    "from keras.models import load_model"
   ]
  },
  {
   "cell_type": "code",
   "execution_count": 2,
   "metadata": {},
   "outputs": [],
   "source": [
    "import cv2"
   ]
  },
  {
   "cell_type": "code",
   "execution_count": 3,
   "metadata": {},
   "outputs": [],
   "source": [
    "import numpy as np"
   ]
  },
  {
   "cell_type": "code",
   "execution_count": 4,
   "metadata": {},
   "outputs": [],
   "source": [
    "x=160\n",
    "y=25\n",
    "h=370\n",
    "w=345\n",
    "clr = (0, 255, 0)\n",
    "brd = 2\n",
    "\n",
    "y_0 = y+brd\n",
    "y_1 = y+h-brd-1\n",
    "x_0 = x+brd\n",
    "x_1 = x+w-brd-1\n",
    "\n",
    "IMG_ROWS = 48\n",
    "IMG_COLS = 48"
   ]
  },
  {
   "cell_type": "code",
   "execution_count": 5,
   "metadata": {},
   "outputs": [],
   "source": [
    "classes_dict = {\n",
    "    0: \"book\",\n",
    "    1: \"film\",\n",
    "    2: \"show\",\n",
    "    3: \"geo\",\n",
    "    4: \"phrase\",\n",
    "    5: \"series\",\n",
    "    6: \"one\",\n",
    "    7: \"two\",\n",
    "    8: \"three\",\n",
    "    9: \"four\",\n",
    "    10: \"five\",\n",
    "    11: \"six\",\n",
    "    12: \"seven\",\n",
    "    13: \"eight\",\n",
    "    14: \"nine\",\n",
    "    15: \"ten\"\n",
    "}"
   ]
  },
  {
   "cell_type": "code",
   "execution_count": 6,
   "metadata": {},
   "outputs": [],
   "source": [
    "img_count = 0"
   ]
  },
  {
   "cell_type": "code",
   "execution_count": 7,
   "metadata": {},
   "outputs": [],
   "source": [
    "THE_CHOSEN_MODEL = \"Charades-CNN-48x3-ThreeDropout-Batch-32-l1-0x001\""
   ]
  },
  {
   "cell_type": "code",
   "execution_count": 8,
   "metadata": {},
   "outputs": [],
   "source": [
    "saved_model = load_model(THE_CHOSEN_MODEL + '.model')"
   ]
  },
  {
   "cell_type": "code",
   "execution_count": 9,
   "metadata": {},
   "outputs": [],
   "source": [
    "def preprocess(img):\n",
    "    # izecanje regiona od znacaja\n",
    "    crop_img = img[y_0:y_1, x_0:x_1]\n",
    "    # otkljanjanje suma -> gausovsko zamucivanje\n",
    "    blur_img = cv2.GaussianBlur(crop_img, (5,5), 0)\n",
    "    # dodavanje maske u tonu koze -> hsv (dobar za izdvajanje objekata odredjene boje sa slike)\n",
    "    # konverzija u hsv prstor boja\n",
    "    hsv_img = cv2.cvtColor(blur_img, cv2.COLOR_BGR2HSV)\n",
    "    # odredjivanje donje i gornje granice boje pod koje spada boja koze\n",
    "    lower_hsv = (0, 7, 55)\n",
    "    upper_hsv = (15, 190, 255)\n",
    "    # tresholding pomocu inRange\n",
    "    hsv_mask = cv2.inRange(hsv_img, lower_hsv, upper_hsv)\n",
    "    # odstranjujemo sum\n",
    "    hsv_blur_mask = cv2.medianBlur(hsv_mask, 3)\n",
    "    kernel = cv2.getStructuringElement(cv2.MORPH_ELLIPSE, (3, 3))\n",
    "    hsv_ero = cv2.erode(hsv_blur_mask, kernel, iterations=1)\n",
    "    hsv_open = cv2.dilate(hsv_ero, kernel, iterations=4)\n",
    "    # konture\n",
    "    contours, hierarchy = cv2.findContours(hsv_open, cv2.RETR_LIST, cv2.CHAIN_APPROX_SIMPLE)\n",
    "    approved_contours = []\n",
    "    for contour in contours:\n",
    "        center, size, angle = cv2.minAreaRect(contour)\n",
    "        width, height = size\n",
    "        if width > 60 and height > 50:\n",
    "            approved_contours.append(contour)\n",
    "    # obradjena slika\n",
    "    height, width, channels = crop_img.shape\n",
    "    black = np.zeros((height, width))\n",
    "\n",
    "    cv2.fillPoly(black, approved_contours, color=(255,255,255))\n",
    "    # povratna vrednost -> ulaz za mrezu\n",
    "    cv2.imshow(\"preprocesed\", black)\n",
    "    cv2.imwrite(\"pre/pre_\"+str(img_count)+\".png\", black)\n",
    "    return black"
   ]
  },
  {
   "cell_type": "code",
   "execution_count": 10,
   "metadata": {},
   "outputs": [],
   "source": [
    "def charades(frame):\n",
    "    p_frame = preprocess(frame)\n",
    "    image = p_frame / 255.0\n",
    "    image = cv2.resize(image, (IMG_ROWS, IMG_COLS))\n",
    "    image = image.flatten()\n",
    "    img_arr = np.array(image).reshape(-1, IMG_ROWS, IMG_COLS, 1)\n",
    "    \n",
    "    '''\n",
    "    prediction_proba = saved_model.predict_proba(img_arr)\n",
    "    best_pred_value = np.amax(prediction_proba) * 100\n",
    "    print(\"value\", best_pred_value)\n",
    "    best_pred = np.argmax(prediction_proba)\n",
    "    print(\"best prediction\", classes_dict[best_pred])\n",
    "    '''\n",
    "    \n",
    "    prediction = saved_model.predict_classes(img_arr)\n",
    "    pred_class = classes_dict[prediction[0]]\n",
    "    return pred_class"
   ]
  },
  {
   "cell_type": "code",
   "execution_count": 32,
   "metadata": {},
   "outputs": [
    {
     "name": "stdout",
     "output_type": "stream",
     "text": [
      "Escape hit, closing...\n"
     ]
    }
   ],
   "source": [
    "# load images from camera\n",
    "\n",
    "cam = cv2.VideoCapture(0)\n",
    "\n",
    "cv2.namedWindow(\"Play charades!\")\n",
    "\n",
    "img_count = 0\n",
    "charades_class = \"\"\n",
    "\n",
    "while True:\n",
    "    ret, frame = cam.read()\n",
    "    if not ret:\n",
    "        print(\"failed to grab frame\")\n",
    "        break\n",
    "\n",
    "    #cv2.rectangle(frame, (x,y), (x+w,y+h), clr, brd)\n",
    "\n",
    "    cv2.putText(frame,  \n",
    "                \"Let's play some charades\",  \n",
    "                (120, 50),  \n",
    "                cv2.FONT_HERSHEY_SIMPLEX, 1,  \n",
    "                (0, 255, 255), \n",
    "                1, \n",
    "                cv2.LINE_AA)\n",
    "    \n",
    "    k = cv2.waitKey(1)\n",
    "    if k%256 == 27:\n",
    "        # ESC pressed\n",
    "        print(\"Escape hit, closing...\")\n",
    "        break\n",
    "    elif k%256 == 32:\n",
    "        # SPACE pressed\n",
    "        img_count += 1\n",
    "        charades_class = charades(frame)\n",
    "        print(charades_class)\n",
    "        \n",
    "    cv2.putText(frame,  \n",
    "            \"Found: \" + charades_class,  \n",
    "            (50, 400),  \n",
    "            cv2.FONT_HERSHEY_SIMPLEX, 1,  \n",
    "            (0, 255, 255), \n",
    "            1, \n",
    "            cv2.LINE_AA)\n",
    "    \n",
    "    cv2.imshow(\"Play charades!\", frame)\n",
    "\n",
    "cam.release()\n",
    "\n",
    "cv2.destroyAllWindows()"
   ]
  },
  {
   "cell_type": "code",
   "execution_count": null,
   "metadata": {},
   "outputs": [],
   "source": []
  }
 ],
 "metadata": {
  "kernelspec": {
   "display_name": "Python 3",
   "language": "python",
   "name": "python3"
  },
  "language_info": {
   "codemirror_mode": {
    "name": "ipython",
    "version": 3
   },
   "file_extension": ".py",
   "mimetype": "text/x-python",
   "name": "python",
   "nbconvert_exporter": "python",
   "pygments_lexer": "ipython3",
   "version": "3.7.2"
  }
 },
 "nbformat": 4,
 "nbformat_minor": 2
}
